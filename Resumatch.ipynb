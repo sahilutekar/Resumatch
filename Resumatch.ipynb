{
  "nbformat": 4,
  "nbformat_minor": 0,
  "metadata": {
    "colab": {
      "private_outputs": true,
      "provenance": []
    },
    "kernelspec": {
      "name": "python3",
      "display_name": "Python 3"
    },
    "language_info": {
      "name": "python"
    }
  },
  "cells": [
    {
      "cell_type": "code",
      "execution_count": null,
      "metadata": {
        "id": "16kwhgeRIDT7"
      },
      "outputs": [],
      "source": [
        "!pip install docx2txt"
      ]
    },
    {
      "cell_type": "code",
      "source": [
        "import docx2txt"
      ],
      "metadata": {
        "id": "tn3sV69KILCY"
      },
      "execution_count": null,
      "outputs": []
    },
    {
      "cell_type": "code",
      "source": [
        "job_description =docx2txt.process(\"/content/JobDescriptionForDigitalData_Engineer.docx\")\n",
        "resume = docx2txt.process(\"/content/Jayakumar_Data Engineer.docx\")"
      ],
      "metadata": {
        "id": "fv9pos1sIXFK"
      },
      "execution_count": null,
      "outputs": []
    },
    {
      "cell_type": "code",
      "source": [
        "print(job_description)"
      ],
      "metadata": {
        "id": "ZpTyiQlPJIu0"
      },
      "execution_count": null,
      "outputs": []
    },
    {
      "cell_type": "code",
      "source": [
        "print(resume)"
      ],
      "metadata": {
        "id": "lzGwS4E-JOeV"
      },
      "execution_count": null,
      "outputs": []
    },
    {
      "cell_type": "code",
      "source": [
        "content = [job_description, resume]"
      ],
      "metadata": {
        "id": "FykMZhPLJT20"
      },
      "execution_count": null,
      "outputs": []
    },
    {
      "cell_type": "code",
      "source": [
        "#Count Vect :- It convert text to vectors\n",
        "from sklearn.feature_extraction.text import CountVectorizer\n",
        "cv = CountVectorizer()\n",
        "matrix = cv.fit_transform(content)"
      ],
      "metadata": {
        "id": "oW-Dc1jwJnv0"
      },
      "execution_count": null,
      "outputs": []
    },
    {
      "cell_type": "code",
      "source": [
        "# for comparing the similarity we import cosine similiarity \n",
        "from sklearn.metrics.pairwise import cosine_similarity\n",
        "similarity_matrix = cosine_similarity(matrix)"
      ],
      "metadata": {
        "id": "c4y7_rqhKe9z"
      },
      "execution_count": null,
      "outputs": []
    },
    {
      "cell_type": "code",
      "source": [
        "print(similarity_matrix)"
      ],
      "metadata": {
        "id": "pgiuJ81OK_v6"
      },
      "execution_count": null,
      "outputs": []
    },
    {
      "cell_type": "code",
      "source": [
        "print(\"Resume matches by :\" + str(similarity_matrix[1][0*100]) + '%')"
      ],
      "metadata": {
        "id": "4M7js1OVLecn"
      },
      "execution_count": null,
      "outputs": []
    },
    {
      "cell_type": "code",
      "source": [],
      "metadata": {
        "id": "RGIsN7MWMJdd"
      },
      "execution_count": null,
      "outputs": []
    }
  ]
}